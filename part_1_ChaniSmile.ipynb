{
 "cells": [
  {
   "cell_type": "code",
   "execution_count": 5,
   "metadata": {},
   "outputs": [
    {
     "name": "stderr",
     "output_type": "stream",
     "text": [
      "Invalid switch - \"\".\n"
     ]
    }
   ],
   "source": [
    "ls -lh data/"
   ]
  },
  {
   "cell_type": "code",
   "execution_count": null,
   "metadata": {},
   "outputs": [],
   "source": []
  },
  {
   "cell_type": "markdown",
   "metadata": {},
   "source": [
    "# Loading The CSV File"
   ]
  },
  {
   "cell_type": "code",
   "execution_count": 3,
   "metadata": {},
   "outputs": [
    {
     "name": "stdout",
     "output_type": "stream",
     "text": [
      "Wall time: 13.9 s\n"
     ]
    }
   ],
   "source": [
    "%%time\n",
    "\n",
    "import pandas as pd\n",
    "df = pd.read_csv('data/fixed.csv')"
   ]
  },
  {
   "cell_type": "code",
   "execution_count": 7,
   "metadata": {},
   "outputs": [
    {
     "name": "stdout",
     "output_type": "stream",
     "text": [
      "<class 'pandas.core.frame.DataFrame'>\n",
      "RangeIndex: 2323984 entries, 0 to 2323983\n",
      "Data columns (total 14 columns):\n",
      "0                                     int64\n",
      " 14                                   int64\n",
      " 329                                  int64\n",
      " 0                                    int64\n",
      " 362                                  int64\n",
      " 0.1                                  int64\n",
      " 0.2                                  int64\n",
      " 0.3                                  int64\n",
      " 5                                    int64\n",
      " 14-16\\20170817012709_100.h264.txt    object\n",
      " 2017-08-17 01:27:09                  object\n",
      " 01:27:09                             object\n",
      " 0:00:00                              object\n",
      " 0.0604166666667                      float64\n",
      "dtypes: float64(1), int64(9), object(4)\n",
      "memory usage: 591.7 MB\n"
     ]
    }
   ],
   "source": [
    "df.info(memory_usage='deep')"
   ]
  },
  {
   "cell_type": "code",
   "execution_count": 10,
   "metadata": {},
   "outputs": [
    {
     "data": {
      "text/html": [
       "<div>\n",
       "<style scoped>\n",
       "    .dataframe tbody tr th:only-of-type {\n",
       "        vertical-align: middle;\n",
       "    }\n",
       "\n",
       "    .dataframe tbody tr th {\n",
       "        vertical-align: top;\n",
       "    }\n",
       "\n",
       "    .dataframe thead th {\n",
       "        text-align: right;\n",
       "    }\n",
       "</style>\n",
       "<table border=\"1\" class=\"dataframe\">\n",
       "  <thead>\n",
       "    <tr style=\"text-align: right;\">\n",
       "      <th></th>\n",
       "      <th>0</th>\n",
       "      <th>14</th>\n",
       "      <th>329</th>\n",
       "      <th>0</th>\n",
       "      <th>362</th>\n",
       "      <th>0.1</th>\n",
       "      <th>0.2</th>\n",
       "      <th>0.3</th>\n",
       "      <th>5</th>\n",
       "      <th>0.0604166666667</th>\n",
       "    </tr>\n",
       "  </thead>\n",
       "  <tbody>\n",
       "    <tr>\n",
       "      <th>count</th>\n",
       "      <td>2.323984e+06</td>\n",
       "      <td>2.323984e+06</td>\n",
       "      <td>2.323984e+06</td>\n",
       "      <td>2.323984e+06</td>\n",
       "      <td>2.323984e+06</td>\n",
       "      <td>2.323984e+06</td>\n",
       "      <td>2323984.0</td>\n",
       "      <td>2323984.0</td>\n",
       "      <td>2.323984e+06</td>\n",
       "      <td>2.323984e+06</td>\n",
       "    </tr>\n",
       "    <tr>\n",
       "      <th>mean</th>\n",
       "      <td>8.271849e+03</td>\n",
       "      <td>2.762049e+02</td>\n",
       "      <td>1.465740e+02</td>\n",
       "      <td>5.330109e+01</td>\n",
       "      <td>4.196587e+07</td>\n",
       "      <td>1.182565e+02</td>\n",
       "      <td>0.0</td>\n",
       "      <td>0.0</td>\n",
       "      <td>8.043612e+00</td>\n",
       "      <td>5.222413e-01</td>\n",
       "    </tr>\n",
       "    <tr>\n",
       "      <th>std</th>\n",
       "      <td>5.161792e+03</td>\n",
       "      <td>1.625547e+02</td>\n",
       "      <td>7.780712e+01</td>\n",
       "      <td>9.297647e+01</td>\n",
       "      <td>3.404631e+07</td>\n",
       "      <td>1.532162e+02</td>\n",
       "      <td>0.0</td>\n",
       "      <td>0.0</td>\n",
       "      <td>1.431355e+01</td>\n",
       "      <td>2.707996e-01</td>\n",
       "    </tr>\n",
       "    <tr>\n",
       "      <th>min</th>\n",
       "      <td>0.000000e+00</td>\n",
       "      <td>3.000000e+00</td>\n",
       "      <td>3.000000e+00</td>\n",
       "      <td>0.000000e+00</td>\n",
       "      <td>3.620000e+02</td>\n",
       "      <td>0.000000e+00</td>\n",
       "      <td>0.0</td>\n",
       "      <td>0.0</td>\n",
       "      <td>1.000000e+00</td>\n",
       "      <td>0.000000e+00</td>\n",
       "    </tr>\n",
       "    <tr>\n",
       "      <th>25%</th>\n",
       "      <td>3.719000e+03</td>\n",
       "      <td>1.460000e+02</td>\n",
       "      <td>9.400000e+01</td>\n",
       "      <td>1.200000e+01</td>\n",
       "      <td>8.056592e+06</td>\n",
       "      <td>1.700000e+01</td>\n",
       "      <td>0.0</td>\n",
       "      <td>0.0</td>\n",
       "      <td>2.000000e+00</td>\n",
       "      <td>3.541667e-01</td>\n",
       "    </tr>\n",
       "    <tr>\n",
       "      <th>50%</th>\n",
       "      <td>8.098000e+03</td>\n",
       "      <td>2.720000e+02</td>\n",
       "      <td>1.310000e+02</td>\n",
       "      <td>2.700000e+01</td>\n",
       "      <td>4.154462e+07</td>\n",
       "      <td>6.000000e+01</td>\n",
       "      <td>0.0</td>\n",
       "      <td>0.0</td>\n",
       "      <td>3.000000e+00</td>\n",
       "      <td>5.333333e-01</td>\n",
       "    </tr>\n",
       "    <tr>\n",
       "      <th>75%</th>\n",
       "      <td>1.250700e+04</td>\n",
       "      <td>4.050000e+02</td>\n",
       "      <td>2.030000e+02</td>\n",
       "      <td>5.100000e+01</td>\n",
       "      <td>5.209650e+07</td>\n",
       "      <td>1.650000e+02</td>\n",
       "      <td>0.0</td>\n",
       "      <td>0.0</td>\n",
       "      <td>6.000000e+00</td>\n",
       "      <td>7.270833e-01</td>\n",
       "    </tr>\n",
       "    <tr>\n",
       "      <th>max</th>\n",
       "      <td>1.847600e+04</td>\n",
       "      <td>6.370000e+02</td>\n",
       "      <td>3.570000e+02</td>\n",
       "      <td>6.430000e+02</td>\n",
       "      <td>1.265195e+08</td>\n",
       "      <td>1.977000e+03</td>\n",
       "      <td>0.0</td>\n",
       "      <td>0.0</td>\n",
       "      <td>1.150000e+02</td>\n",
       "      <td>9.993056e-01</td>\n",
       "    </tr>\n",
       "  </tbody>\n",
       "</table>\n",
       "</div>"
      ],
      "text/plain": [
       "                  0            14           329             0           362  \\\n",
       "count  2.323984e+06  2.323984e+06  2.323984e+06  2.323984e+06  2.323984e+06   \n",
       "mean   8.271849e+03  2.762049e+02  1.465740e+02  5.330109e+01  4.196587e+07   \n",
       "std    5.161792e+03  1.625547e+02  7.780712e+01  9.297647e+01  3.404631e+07   \n",
       "min    0.000000e+00  3.000000e+00  3.000000e+00  0.000000e+00  3.620000e+02   \n",
       "25%    3.719000e+03  1.460000e+02  9.400000e+01  1.200000e+01  8.056592e+06   \n",
       "50%    8.098000e+03  2.720000e+02  1.310000e+02  2.700000e+01  4.154462e+07   \n",
       "75%    1.250700e+04  4.050000e+02  2.030000e+02  5.100000e+01  5.209650e+07   \n",
       "max    1.847600e+04  6.370000e+02  3.570000e+02  6.430000e+02  1.265195e+08   \n",
       "\n",
       "                0.1        0.2        0.3             5   0.0604166666667  \n",
       "count  2.323984e+06  2323984.0  2323984.0  2.323984e+06      2.323984e+06  \n",
       "mean   1.182565e+02        0.0        0.0  8.043612e+00      5.222413e-01  \n",
       "std    1.532162e+02        0.0        0.0  1.431355e+01      2.707996e-01  \n",
       "min    0.000000e+00        0.0        0.0  1.000000e+00      0.000000e+00  \n",
       "25%    1.700000e+01        0.0        0.0  2.000000e+00      3.541667e-01  \n",
       "50%    6.000000e+01        0.0        0.0  3.000000e+00      5.333333e-01  \n",
       "75%    1.650000e+02        0.0        0.0  6.000000e+00      7.270833e-01  \n",
       "max    1.977000e+03        0.0        0.0  1.150000e+02      9.993056e-01  "
      ]
     },
     "execution_count": 10,
     "metadata": {},
     "output_type": "execute_result"
    }
   ],
   "source": [
    "df.describe()"
   ]
  },
  {
   "cell_type": "code",
   "execution_count": 11,
   "metadata": {},
   "outputs": [],
   "source": [
    "df.columns = ['frame', 'x', 'y', 'obj', 'size', 'seq', 'tbd1', 'tbd2','tbd3', 'filename', 'start', 'path_time', 'delta_time','tbd4']"
   ]
  },
  {
   "cell_type": "code",
   "execution_count": 12,
   "metadata": {},
   "outputs": [
    {
     "data": {
      "text/html": [
       "<div>\n",
       "<style scoped>\n",
       "    .dataframe tbody tr th:only-of-type {\n",
       "        vertical-align: middle;\n",
       "    }\n",
       "\n",
       "    .dataframe tbody tr th {\n",
       "        vertical-align: top;\n",
       "    }\n",
       "\n",
       "    .dataframe thead th {\n",
       "        text-align: right;\n",
       "    }\n",
       "</style>\n",
       "<table border=\"1\" class=\"dataframe\">\n",
       "  <thead>\n",
       "    <tr style=\"text-align: right;\">\n",
       "      <th></th>\n",
       "      <th>frame</th>\n",
       "      <th>x</th>\n",
       "      <th>y</th>\n",
       "      <th>obj</th>\n",
       "      <th>size</th>\n",
       "      <th>seq</th>\n",
       "      <th>tbd1</th>\n",
       "      <th>tbd2</th>\n",
       "      <th>tbd3</th>\n",
       "      <th>filename</th>\n",
       "      <th>start</th>\n",
       "      <th>path_time</th>\n",
       "      <th>delta_time</th>\n",
       "      <th>tbd4</th>\n",
       "    </tr>\n",
       "  </thead>\n",
       "  <tbody>\n",
       "    <tr>\n",
       "      <th>0</th>\n",
       "      <td>0</td>\n",
       "      <td>4</td>\n",
       "      <td>291</td>\n",
       "      <td>1</td>\n",
       "      <td>362</td>\n",
       "      <td>0</td>\n",
       "      <td>0</td>\n",
       "      <td>0</td>\n",
       "      <td>5</td>\n",
       "      <td>14-16\\20170817012709_100.h264.txt</td>\n",
       "      <td>2017-08-17 01:27:09</td>\n",
       "      <td>01:27:09</td>\n",
       "      <td>0:00:00</td>\n",
       "      <td>0.060417</td>\n",
       "    </tr>\n",
       "    <tr>\n",
       "      <th>1</th>\n",
       "      <td>0</td>\n",
       "      <td>629</td>\n",
       "      <td>7</td>\n",
       "      <td>2</td>\n",
       "      <td>362</td>\n",
       "      <td>0</td>\n",
       "      <td>0</td>\n",
       "      <td>0</td>\n",
       "      <td>5</td>\n",
       "      <td>14-16\\20170817012709_100.h264.txt</td>\n",
       "      <td>2017-08-17 01:27:09</td>\n",
       "      <td>01:27:09</td>\n",
       "      <td>0:00:00</td>\n",
       "      <td>0.060417</td>\n",
       "    </tr>\n",
       "    <tr>\n",
       "      <th>2</th>\n",
       "      <td>0</td>\n",
       "      <td>253</td>\n",
       "      <td>4</td>\n",
       "      <td>3</td>\n",
       "      <td>362</td>\n",
       "      <td>0</td>\n",
       "      <td>0</td>\n",
       "      <td>0</td>\n",
       "      <td>5</td>\n",
       "      <td>14-16\\20170817012709_100.h264.txt</td>\n",
       "      <td>2017-08-17 01:27:09</td>\n",
       "      <td>01:27:09</td>\n",
       "      <td>0:00:00</td>\n",
       "      <td>0.060417</td>\n",
       "    </tr>\n",
       "    <tr>\n",
       "      <th>3</th>\n",
       "      <td>0</td>\n",
       "      <td>185</td>\n",
       "      <td>4</td>\n",
       "      <td>4</td>\n",
       "      <td>362</td>\n",
       "      <td>0</td>\n",
       "      <td>0</td>\n",
       "      <td>0</td>\n",
       "      <td>5</td>\n",
       "      <td>14-16\\20170817012709_100.h264.txt</td>\n",
       "      <td>2017-08-17 01:27:09</td>\n",
       "      <td>01:27:09</td>\n",
       "      <td>0:00:00</td>\n",
       "      <td>0.060417</td>\n",
       "    </tr>\n",
       "    <tr>\n",
       "      <th>4</th>\n",
       "      <td>1700</td>\n",
       "      <td>5</td>\n",
       "      <td>102</td>\n",
       "      <td>5</td>\n",
       "      <td>362</td>\n",
       "      <td>0</td>\n",
       "      <td>0</td>\n",
       "      <td>0</td>\n",
       "      <td>1</td>\n",
       "      <td>14-16\\20170817012709_100.h264.txt</td>\n",
       "      <td>2017-08-17 01:27:09</td>\n",
       "      <td>01:28:17</td>\n",
       "      <td>0:01:08</td>\n",
       "      <td>0.061111</td>\n",
       "    </tr>\n",
       "  </tbody>\n",
       "</table>\n",
       "</div>"
      ],
      "text/plain": [
       "   frame    x    y  obj  size  seq  tbd1  tbd2  tbd3  \\\n",
       "0      0    4  291    1   362    0     0     0     5   \n",
       "1      0  629    7    2   362    0     0     0     5   \n",
       "2      0  253    4    3   362    0     0     0     5   \n",
       "3      0  185    4    4   362    0     0     0     5   \n",
       "4   1700    5  102    5   362    0     0     0     1   \n",
       "\n",
       "                             filename                 start  path_time  \\\n",
       "0   14-16\\20170817012709_100.h264.txt   2017-08-17 01:27:09   01:27:09   \n",
       "1   14-16\\20170817012709_100.h264.txt   2017-08-17 01:27:09   01:27:09   \n",
       "2   14-16\\20170817012709_100.h264.txt   2017-08-17 01:27:09   01:27:09   \n",
       "3   14-16\\20170817012709_100.h264.txt   2017-08-17 01:27:09   01:27:09   \n",
       "4   14-16\\20170817012709_100.h264.txt   2017-08-17 01:27:09   01:28:17   \n",
       "\n",
       "  delta_time      tbd4  \n",
       "0    0:00:00  0.060417  \n",
       "1    0:00:00  0.060417  \n",
       "2    0:00:00  0.060417  \n",
       "3    0:00:00  0.060417  \n",
       "4    0:01:08  0.061111  "
      ]
     },
     "execution_count": 12,
     "metadata": {},
     "output_type": "execute_result"
    }
   ],
   "source": [
    "df.head()"
   ]
  },
  {
   "cell_type": "code",
   "execution_count": 4,
   "metadata": {},
   "outputs": [
    {
     "name": "stdout",
     "output_type": "stream",
     "text": [
      "Wall time: 8.64 s\n"
     ]
    }
   ],
   "source": [
    "%%time\n",
    "df = pd.read_csv('data/fixed.csv',usecols=[0,1,2,3,4,5,9,10,11,12])\n",
    "df.columns = ['frame', 'x', 'y', 'obj', 'size', 'seq', 'filename', 'start', 'path_time', 'delta_time']\n"
   ]
  },
  {
   "cell_type": "code",
   "execution_count": 38,
   "metadata": {},
   "outputs": [
    {
     "name": "stdout",
     "output_type": "stream",
     "text": [
      "<class 'pandas.core.frame.DataFrame'>\n",
      "RangeIndex: 2323984 entries, 0 to 2323983\n",
      "Data columns (total 10 columns):\n",
      "frame         int64\n",
      "x             int64\n",
      "y             int64\n",
      "obj           int64\n",
      "size          int64\n",
      "seq           int64\n",
      "filename      object\n",
      "start         object\n",
      "path_time     object\n",
      "delta_time    object\n",
      "dtypes: int64(6), object(4)\n",
      "memory usage: 520.7 MB\n"
     ]
    }
   ],
   "source": [
    "df.info(memory_usage='deep')"
   ]
  },
  {
   "cell_type": "code",
   "execution_count": 5,
   "metadata": {},
   "outputs": [
    {
     "name": "stdout",
     "output_type": "stream",
     "text": [
      "<class 'pandas.core.frame.DataFrame'>\n",
      "RangeIndex: 2323984 entries, 0 to 2323983\n",
      "Data columns (total 10 columns):\n",
      "frame         uint16\n",
      "x             uint16\n",
      "y             uint16\n",
      "obj           uint16\n",
      "size          uint32\n",
      "seq           uint16\n",
      "filename      object\n",
      "start         object\n",
      "path_time     object\n",
      "delta_time    object\n",
      "dtypes: object(4), uint16(5), uint32(1)\n",
      "memory usage: 445.4 MB\n",
      "Wall time: 2.79 s\n"
     ]
    }
   ],
   "source": [
    "%%time\n",
    "\n",
    "df_int = df.select_dtypes(include=['int64'])\n",
    "converted_int = df_int.apply(pd.to_numeric,downcast='unsigned')\n",
    "                             \n",
    "df[converted_int.columns] = converted_int\n",
    "df.info(memory_usage='deep')"
   ]
  },
  {
   "cell_type": "code",
   "execution_count": 8,
   "metadata": {},
   "outputs": [
    {
     "name": "stdout",
     "output_type": "stream",
     "text": [
      "Wall time: 31.9 ms\n"
     ]
    }
   ],
   "source": [
    "%%time\n",
    "df_obj = df.select_dtypes(include = ['object']).copy()\n",
    "converted_obj = pd.DataFrame()\n",
    "\n",
    "for col in df_obj.columns:\n",
    "       num_unique_values = len(df_obj[col].unique())\n",
    "       num_total_values = len(df_obj[col])\n",
    "       if num_unique_values / num_total_values < 0.5:\n",
    "           converted_obj.loc[:,col] = df_obj[col].astype('category')\n",
    "       else:\n",
    "           converted_obj.loc[:,col] = df_obj[col]\n",
    "\n",
    "df[converted_obj.columns] = converted_obj"
   ]
  },
  {
   "cell_type": "code",
   "execution_count": 9,
   "metadata": {},
   "outputs": [
    {
     "name": "stdout",
     "output_type": "stream",
     "text": [
      "<class 'pandas.core.frame.DataFrame'>\n",
      "RangeIndex: 2323984 entries, 0 to 2323983\n",
      "Data columns (total 10 columns):\n",
      "frame         uint16\n",
      "x             uint16\n",
      "y             uint16\n",
      "obj           uint16\n",
      "size          uint32\n",
      "seq           uint16\n",
      "filename      category\n",
      "start         category\n",
      "path_time     category\n",
      "delta_time    category\n",
      "dtypes: category(4), uint16(5), uint32(1)\n",
      "memory usage: 55.5 MB\n"
     ]
    }
   ],
   "source": [
    "df.info(memory_usage='deep')"
   ]
  },
  {
   "cell_type": "code",
   "execution_count": null,
   "metadata": {},
   "outputs": [],
   "source": []
  }
 ],
 "metadata": {
  "kernelspec": {
   "display_name": "Python 3",
   "language": "python",
   "name": "python3"
  },
  "language_info": {
   "codemirror_mode": {
    "name": "ipython",
    "version": 3
   },
   "file_extension": ".py",
   "mimetype": "text/x-python",
   "name": "python",
   "nbconvert_exporter": "python",
   "pygments_lexer": "ipython3",
   "version": "3.7.0"
  }
 },
 "nbformat": 4,
 "nbformat_minor": 2
}
